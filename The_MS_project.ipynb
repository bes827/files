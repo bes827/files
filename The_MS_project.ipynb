{
  "nbformat": 4,
  "nbformat_minor": 0,
  "metadata": {
    "colab": {
      "name": "The MS project.ipynb",
      "provenance": [],
      "collapsed_sections": [],
      "authorship_tag": "ABX9TyMfqkOkz8cmLcdUnMzgbjbP",
      "include_colab_link": true
    },
    "kernelspec": {
      "name": "python3",
      "display_name": "Python 3"
    },
    "language_info": {
      "name": "python"
    }
  },
  "cells": [
    {
      "cell_type": "markdown",
      "metadata": {
        "id": "view-in-github",
        "colab_type": "text"
      },
      "source": [
        "<a href=\"https://colab.research.google.com/github/bes828/files/blob/main/The_MS_project.ipynb\" target=\"_parent\"><img src=\"https://colab.research.google.com/assets/colab-badge.svg\" alt=\"Open In Colab\"/></a>"
      ]
    },
    {
      "cell_type": "markdown",
      "metadata": {
        "id": "5hSLc9WPMh6Z"
      },
      "source": [
        "# The script outlines methods to: \n",
        "- mount google drive \n",
        "- permamently install python and r packages\n",
        "- how use use r and python in the same colab notebook and how to import objects back and forth.  \n",
        "\n",
        "\n",
        "\n",
        "\n",
        "1) First mount the google drive (to permanently store the libraries)\n",
        "\n"
      ]
    },
    {
      "cell_type": "code",
      "metadata": {
        "colab": {
          "base_uri": "https://localhost:8080/"
        },
        "id": "aFIGsPLYMBZq",
        "outputId": "8999d939-0104-4200-d115-0c83a1a7ccc6"
      },
      "source": [
        "from google.colab import drive\n",
        "drive.mount('/content/drive')"
      ],
      "execution_count": 1,
      "outputs": [
        {
          "output_type": "stream",
          "text": [
            "Mounted at /content/drive\n"
          ],
          "name": "stdout"
        }
      ]
    },
    {
      "cell_type": "markdown",
      "metadata": {
        "id": "Z97KSAFKPZwi"
      },
      "source": [
        "**Second**, create a folder to store libraries and specify path."
      ]
    },
    {
      "cell_type": "code",
      "metadata": {
        "id": "C6zKDe8QPMSv"
      },
      "source": [
        "import sys\n",
        "nb_path = \"/content/drive/MyDrive/lib\"\n",
        "if nb_path not in sys.path:\n",
        "  sys.path.insert(5, nb_path)\n",
        "\n",
        "\n"
      ],
      "execution_count": 3,
      "outputs": []
    },
    {
      "cell_type": "markdown",
      "metadata": {
        "id": "DwxNgLLTRKbt"
      },
      "source": [
        "Third, install the needed packages (only install once, then should be able to import next time(s) )\n",
        "\n",
        "do not forget to uncomment if you want to install. \n",
        "\n"
      ]
    },
    {
      "cell_type": "code",
      "metadata": {
        "id": "XxgdxemZRUJx"
      },
      "source": [
        "#!pip install python-docx --target=\"/content/drive/MyDrive/lib\"\n",
        " "
      ],
      "execution_count": null,
      "outputs": []
    },
    {
      "cell_type": "markdown",
      "metadata": {
        "id": "fXFvSH5JVNVL"
      },
      "source": [
        "\n",
        "\n",
        "\n",
        "---\n",
        "\n"
      ]
    },
    {
      "cell_type": "code",
      "metadata": {
        "id": "v1QZHWoiRYzZ"
      },
      "source": [
        "## IMPORT\n",
        "\n",
        "import docx\n",
        "\n",
        "\n",
        "\n"
      ],
      "execution_count": null,
      "outputs": []
    },
    {
      "cell_type": "markdown",
      "metadata": {
        "id": "tGOayXKHViPu"
      },
      "source": [
        "### to save text as docx\n",
        "\n",
        "# https://stackabuse.com/reading-and-writing-ms-word-files-in-python-via-python-docx-module\n"
      ]
    },
    {
      "cell_type": "code",
      "metadata": {
        "id": "kbHSKR_qR-lJ"
      },
      "source": [
        "\n",
        "mydoc = docx.Document() #create blank file\n",
        "\n",
        "xx = \"The article gave a brief overview of how to read and write MS Word files using the python-docx module. The article covers how to read paragraphs and runs from within a MS Word file. Finally, the process of writing MS Word files, adding a paragraph, runs, headers, and images to MS Word files have been explained in this article.\"\n",
        "\n",
        "mydoc.add_paragraph(xx)\n",
        "\n",
        "mydoc.save(\"/content/drive/MyDrive/examples/ex1.docx\")\n"
      ],
      "execution_count": null,
      "outputs": []
    },
    {
      "cell_type": "code",
      "metadata": {
        "id": "ZJsjiMWzddi-"
      },
      "source": [
        ""
      ],
      "execution_count": null,
      "outputs": []
    },
    {
      "cell_type": "markdown",
      "metadata": {
        "id": "fgNd7Xnzded5"
      },
      "source": [
        "# **Using R in the same notebook:**"
      ]
    },
    {
      "cell_type": "code",
      "metadata": {
        "id": "44k-pSiKdd38"
      },
      "source": [
        "# This enables r magic using %%R at the beginning of the cell:\n",
        "%load_ext rpy2.ipython\n",
        "\n",
        "import rpy2.robjects as robjects"
      ],
      "execution_count": 4,
      "outputs": []
    },
    {
      "cell_type": "code",
      "metadata": {
        "id": "7GW-brNXYQez"
      },
      "source": [
        "%%R\n",
        "## Install R packages permanently   (only excute once)\n",
        "# https://stackoverflow.com/questions/52399380/do-i-have-to-install-packages-needed-each-time-when-i-start-google-colab\n",
        "\n",
        "#lib_loc <- \"/content/drive/MyDrive/r-lib\"\n",
        "\n",
        "lib_loc <- \"/content/drive/MyDrive/r-lib\"\n",
        "\n",
        "#install.packages(\"data.table\", lib = lib_loc)\n",
        "\n",
        "#install.packages(\"dplyr\", lib = lib_loc)\n"
      ],
      "execution_count": 6,
      "outputs": []
    },
    {
      "cell_type": "code",
      "metadata": {
        "id": "IcA5H9szcRpZ",
        "colab": {
          "base_uri": "https://localhost:8080/"
        },
        "outputId": "ef52e890-85b2-4ca4-ce3c-ac1c129b3980"
      },
      "source": [
        "%%R\n",
        "#to load the required libraries: \n",
        "\n",
        "\n",
        "lib_loc <- \"/content/drive/MyDrive/r-lib\"\n",
        "\n",
        "x=c(\"glue\", \"dplyr\") #vector with libraries names\n",
        "lapply(x, library, lib.loc = lib_loc, character.only = TRUE)\n",
        "\n",
        "#library(data.table, lib.loc = lib_loc)\n",
        "#library(dplyr, lib.loc = lib_loc)"
      ],
      "execution_count": 9,
      "outputs": [
        {
          "output_type": "stream",
          "text": [
            "R[write to console]: \n",
            "Attaching package: ‘dplyr’\n",
            "\n",
            "\n",
            "R[write to console]: The following object is masked from ‘package:glue’:\n",
            "\n",
            "    collapse\n",
            "\n",
            "\n",
            "R[write to console]: The following objects are masked from ‘package:stats’:\n",
            "\n",
            "    filter, lag\n",
            "\n",
            "\n",
            "R[write to console]: The following objects are masked from ‘package:base’:\n",
            "\n",
            "    intersect, setdiff, setequal, union\n",
            "\n",
            "\n"
          ],
          "name": "stderr"
        },
        {
          "output_type": "stream",
          "text": [
            "[[1]]\n",
            "[1] \"glue\"      \"tools\"     \"stats\"     \"graphics\"  \"grDevices\" \"utils\"    \n",
            "[7] \"datasets\"  \"methods\"   \"base\"     \n",
            "\n",
            "[[2]]\n",
            " [1] \"dplyr\"     \"glue\"      \"tools\"     \"stats\"     \"graphics\"  \"grDevices\"\n",
            " [7] \"utils\"     \"datasets\"  \"methods\"   \"base\"     \n",
            "\n"
          ],
          "name": "stdout"
        }
      ]
    },
    {
      "cell_type": "code",
      "metadata": {
        "id": "ZkvIoogQd00j"
      },
      "source": [
        "## Import from python to R\n",
        "\n",
        "%R -i xx\n",
        "\n",
        "\n",
        " "
      ],
      "execution_count": null,
      "outputs": []
    },
    {
      "cell_type": "code",
      "metadata": {
        "id": "95kH9gKNTiw5",
        "colab": {
          "base_uri": "https://localhost:8080/"
        },
        "outputId": "2bf4f54c-fd6d-4fa6-e7e9-169173d380ad"
      },
      "source": [
        "%%R\n",
        "\n",
        "# Test\n",
        "library(data.table)\n",
        " \n",
        "print(xx)\n",
        "x= c(1, 2, 3)"
      ],
      "execution_count": null,
      "outputs": [
        {
          "output_type": "stream",
          "text": [
            "[1] \"The article gave a brief overview of how to read and write MS Word files using the python-docx module. The article covers how to read paragraphs and runs from within a MS Word file. Finally, the process of writing MS Word files, adding a paragraph, runs, headers, and images to MS Word files have been explained in this article.\"\n"
          ],
          "name": "stdout"
        }
      ]
    },
    {
      "cell_type": "markdown",
      "metadata": {
        "id": "M_fzyDEsbuex"
      },
      "source": [
        "\n",
        "\n",
        "\n",
        "\n",
        "\n",
        "\n"
      ]
    },
    {
      "cell_type": "code",
      "metadata": {
        "id": "MlTVvIHSM8ix",
        "colab": {
          "base_uri": "https://localhost:8080/"
        },
        "outputId": "101215a7-f0e0-4637-8287-626d1295b4b3"
      },
      "source": [
        "#Import object from r to python \n",
        "\n",
        "pi = robjects.r['x']\n",
        "\n",
        "# or can use:  \n",
        "%R -o x\n",
        "\n",
        "print (pi)\n",
        "\n",
        "print (x)"
      ],
      "execution_count": null,
      "outputs": [
        {
          "output_type": "stream",
          "text": [
            "[1] 1 2 3\n",
            "\n",
            "[1. 2. 3.]\n"
          ],
          "name": "stdout"
        }
      ]
    }
  ]
}